{
  "cells": [
    {
      "cell_type": "markdown",
      "source": [
        "# CS6140 - Machine Learning: Assignment 4 \n"
      ],
      "metadata": {
        "id": "MVfR7g6eXDO4"
      },
      "id": "MVfR7g6eXDO4"
    },
    {
      "cell_type": "markdown",
      "source": [
        "# Q1. Expectation Maximization (25 Points)\n",
        "\n",
        "Etimate the probability distribution in a 1-dimensional dataset\n",
        "There are two Normal distributions  𝑁(𝜇1, 𝜎_1^2) and 𝑁(𝜇2, 𝜎_2^2).\n",
        "\n",
        "There are 5 paramaters to estimate: $𝜃=(𝑤, 𝜇1, 𝜎_1^2, 𝜇2, 𝜎_2^2)$ where 𝑤 is the probability that the data comes from the first normal probability distribution and (1-𝑤) comes from the second normal probability distribution.\n",
        "\n",
        "The probability density function (PDF) of the mixture model is: $𝑓(𝑥|𝜃)=𝑤 𝑓1(𝑥 | 𝜇1,𝜎_1^2)+(1−𝑤) 𝑓2(𝑥 | 𝜇2,𝜎_2^2)$\n",
        "Your goal is to best fit a given probability density by finding $𝜃=(𝑤,𝜇1,𝜎_1^2,𝜇2,𝜎_2^2)$ through EM iterations.\n",
        "\n",
        "Using the following way to produce data:"
      ],
      "metadata": {
        "id": "rXuqN_idWHda"
      },
      "id": "rXuqN_idWHda"
    },
    {
      "cell_type": "code",
      "source": [
        "import numpy as np\n",
        "random_seed=36788765\n",
        "np.random.seed(random_seed)\n",
        "\n",
        "Mean1 = 2.0  # Input parameter, mean of first normal probability distribution\n",
        "Standard_dev1 = 4.0 #@param {type:\"number\"}\n",
        "Mean2 = 9.0 # Input parameter, mean of second normal  probability distribution\n",
        "Standard_dev2 = 2.0 #@param {type:\"number\"}\n",
        "\n",
        "# generate data\n",
        "y1 = np.random.normal(Mean1, Standard_dev1, 1000)\n",
        "y2 = np.random.normal(Mean2, Standard_dev2, 500)\n",
        "data=np.append(y1,y2)\n"
      ],
      "metadata": {
        "id": "UOClNXWdW4k-"
      },
      "id": "UOClNXWdW4k-",
      "execution_count": 1,
      "outputs": []
    },
    {
      "cell_type": "code",
      "source": [
        "print(data)"
      ],
      "metadata": {
        "colab": {
          "base_uri": "https://localhost:8080/"
        },
        "id": "Wm8--HFlHG81",
        "outputId": "6b0f926a-5bb8-4771-87ef-fa8fdb540dbd"
      },
      "id": "Wm8--HFlHG81",
      "execution_count": 2,
      "outputs": [
        {
          "output_type": "stream",
          "name": "stdout",
          "text": [
            "[ 0.64539892  0.97705513  2.20458457 ...  9.47249572 10.30057834\n",
            "  7.56125543]\n"
          ]
        }
      ]
    },
    {
      "cell_type": "markdown",
      "source": [
        "(1) Using a single Gaussion to estimate and create a plot to see the result: (10 points)\n"
      ],
      "metadata": {
        "id": "_gI3rLvaWsmw"
      },
      "id": "_gI3rLvaWsmw"
    },
    {
      "cell_type": "code",
      "source": [
        "#Using a single Gaussion to estimate and create a plot to see the result: (10 points)\n",
        "#THE ABOVE IS UNINTERPRETABLE - IT IS NOT OKAY FOR HOMEWORK QUESTIONS TO BE UNINTERPRETABLE\n",
        "import matplotlib.pyplot as plt\n",
        "\n",
        "class Gaussian:\n",
        "#\"Model univariate Gaussian\"\n",
        "  def __init__(self, mu, sigma):\n",
        "    #mean and standard deviation\n",
        "    self.mu = mu\n",
        "    self.sigma = sigma\n",
        "\n",
        "#probability density function\n",
        "  def pdf(self, datum):\n",
        "    prob = np.exp(-0.5*np.power(((datum-self.mu)/self.sigma),2))/(self.sigma*np.sqrt(2*np.pi))\n",
        "    return prob\n",
        "\n",
        "myGauss = Gaussian(np.mean(data), np.std(data))\n",
        "probs = np.zeros(len(data))\n",
        "for i in range(len(data)):\n",
        "  probs[i] = myGauss.pdf(data[i])\n",
        "\n",
        "gauss1 = Gaussian(Mean1, Standard_dev1)\n",
        "gauss2 = Gaussian(Mean2, Standard_dev2)\n",
        "plt.scatter(y1, gauss1.pdf(y1), c='y')\n",
        "plt.scatter(y2, gauss2.pdf(y2), c='k')\n",
        "plt.scatter(y1, myGauss.pdf(y1), c='c')\n",
        "plt.scatter(y2, myGauss.pdf(y2), c ='r')\n",
        "plt.show()\n",
        "print('Yellow is the first truth.')\n",
        "print('Black is the second truth.')\n",
        "print('Cyan and red are the estimated Gaussian.')"
      ],
      "metadata": {
        "id": "CeKLCo8QWyiL",
        "colab": {
          "base_uri": "https://localhost:8080/",
          "height": 317
        },
        "outputId": "0759f873-29cb-41c8-a5f4-9f7348423b7d"
      },
      "id": "CeKLCo8QWyiL",
      "execution_count": 3,
      "outputs": [
        {
          "output_type": "display_data",
          "data": {
            "text/plain": [
              "<Figure size 432x288 with 1 Axes>"
            ],
            "image/png": "[encoded data removed]"
          },
          "metadata": {
            "needs_background": "light"
          }
        },
        {
          "output_type": "stream",
          "name": "stdout",
          "text": [
            "Yellow is the first truth.\n",
            "Black is the second truth.\n",
            "Cyan and red are the estimated Gaussian.\n"
          ]
        }
      ]
    },
    {
      "cell_type": "markdown",
      "source": [
        "(2) Using a 2 Gaussian mixture model to estimate and create a plot to see the result(Do not use sklearn GaussianMixture): (15 points)\n"
      ],
      "metadata": {
        "id": "3KVP2AkpW_9n"
      },
      "id": "3KVP2AkpW_9n"
    },
    {
      "cell_type": "code",
      "execution_count": 4,
      "id": "dd16c859",
      "metadata": {
        "id": "dd16c859",
        "colab": {
          "base_uri": "https://localhost:8080/",
          "height": 491
        },
        "outputId": "05e1c706-5d94-4930-e1d4-1deef3b561b7"
      },
      "outputs": [
        {
          "output_type": "stream",
          "name": "stdout",
          "text": [
            "Final Loglikelihood\n",
            "-4404.220106527785\n",
            "Weight to First Gaussian\n",
            "0.5102472824434107\n",
            "Gaussian 1:\n",
            "0.83 vs. 2.0\n",
            "3.38 vs. 4.0\n",
            "Gaussian 2:\n",
            "8.22 vs. 9.0\n",
            "2.52 vs. 2.0\n"
          ]
        },
        {
          "output_type": "display_data",
          "data": {
            "text/plain": [
              "<Figure size 432x288 with 1 Axes>"
            ],
            "image/png": "[encoded data removed]"
          },
          "metadata": {
            "needs_background": "light"
          }
        },
        {
          "output_type": "stream",
          "name": "stdout",
          "text": [
            "Yellow is the first truth.\n",
            "Black is the second truth.\n",
            "Cyan and red are the estimated Gaussians.\n"
          ]
        }
      ],
      "source": [
        "import math\n",
        "class GaussianMixture_self:\n",
        "#\"Model mixture of two univariate Gaussians and their EM estimation\"\n",
        "\n",
        "  def __init__(self, data, mu_min=min(data), mu_max=max(data), sigma_min=1, sigma_max=1, mix=.5):\n",
        "    self.data = data\n",
        "    self.mu_min = mu_min\n",
        "    self.mu_max = mu_max\n",
        "    self.sigma_min = sigma_min\n",
        "    self.sigma_max = sigma_max\n",
        "    self.mix = mix\n",
        "\n",
        "  def Estep(self):\n",
        "    #\"Perform an E(stimation)-step, assign each point to gaussian 1 or 2 with a percentage\"\n",
        "    probs = np.zeros((len(data),2))\n",
        "\n",
        "    for i in range(len(self.data)):\n",
        "      prob1 = self.pdf(self.data[i], self.mu_min, self.sigma_min)\n",
        "      prob2 = self.pdf(self.data[i], self.mu_max, self.sigma_max)\n",
        "      probs[i,0] = prob1/(prob1 + prob2)\n",
        "      probs[i,1] = prob2/(prob1 + prob2)\n",
        "\n",
        "    return probs\n",
        "\n",
        "  def Mstep(self, probs):\n",
        "    #\"Perform an M(aximization)-step\"\n",
        "    #Get weights\n",
        "    w1 = sum(probs[:,0])\n",
        "    w2 = sum(probs[:,1])\n",
        "    self.mix = w1/len(probs)\n",
        "    self.mu_min = (1/w1)*np.dot(probs[:,0], self.data)\n",
        "    self.mu_max = (1/w2)*np.dot(probs[:,1], self.data)\n",
        "    self.sigma_min = math.sqrt((1/w1)*np.dot(probs[:,0], np.power(self.data-self.mu_min,2)))\n",
        "    self.sigma_max = math.sqrt((1/w2)*np.dot(probs[:,1], np.power(self.data-self.mu_max,2)))\n",
        "\n",
        "  def iterate(self, N=1, verbose=False):\n",
        "    #\"Perform N iterations, then compute log-likelihood\"\n",
        "    for i in range(N):\n",
        "      probs = self.Estep()\n",
        "      self.Mstep(probs)\n",
        "    \n",
        "    logllh = 0\n",
        "    for i in range(len(self.data)):\n",
        "      temp = 0\n",
        "      for j in range(2):\n",
        "        if j == 0:\n",
        "          temp += self.mix*self.pdf(self.data[i], self.mu_min, self.sigma_min)\n",
        "        else:\n",
        "          temp += (1-self.mix)*self.pdf(self.data[i], self.mu_max, self.sigma_max)\n",
        "      logllh += math.log(temp)\n",
        "    #calculate the log-likelihood\n",
        "    print('Final Loglikelihood')\n",
        "    print(logllh)\n",
        "\n",
        "  def pdf(self, x, mu, sigma):\n",
        "    prob = np.exp(-0.5*np.power(((x - mu)/sigma),2))/(sigma*np.sqrt(2*np.pi))\n",
        "    return prob\n",
        "\n",
        "  def pdf_whole(self, x):\n",
        "    prob1 = np.exp(-0.5*np.power(((x-self.mu_min)/self.sigma_min),2))/(self.sigma_min*np.sqrt(2*np.pi))\n",
        "    prob2 = np.exp(-0.5*np.power(((x-self.mu_max)/self.sigma_max),2))/(self.sigma_max*np.sqrt(2*np.pi))\n",
        "\n",
        "    return (self.mix)*prob1 + (1-self.mix)*prob2\n",
        "\n",
        "mix = GaussianMixture_self(data, min(data), max(data))\n",
        "mix.iterate(100)\n",
        "print('Weight to First Gaussian')\n",
        "print(mix.mix)\n",
        "print('Gaussian 1:')\n",
        "print(str(round(mix.mu_min,2))   + ' vs. ' + str(Mean1))\n",
        "print(str(round(mix.sigma_min,2)) + ' vs. ' + str(Standard_dev1))\n",
        "print('Gaussian 2:')\n",
        "print(str(round(mix.mu_max,2)) + ' vs. ' + str(Mean2))\n",
        "print(str(round(mix.sigma_max,2)) + ' vs. ' + str(Standard_dev2))\n",
        "\n",
        "gauss1 = Gaussian(Mean1, Standard_dev1)\n",
        "gauss2 = Gaussian(Mean2, Standard_dev2)\n",
        "plt.scatter(y1, gauss1.pdf(y1), c='y')\n",
        "plt.scatter(y2, gauss2.pdf(y2), c='k')\n",
        "plt.scatter(y1, mix.pdf(y1,mix.mu_min, mix.sigma_min), c='c')\n",
        "plt.scatter(y2, mix.pdf(y2, mix.mu_max, mix.sigma_max), c ='r')\n",
        "plt.show()\n",
        "print('Yellow is the first truth.')\n",
        "print('Black is the second truth.')\n",
        "print('Cyan and red are the estimated Gaussians.')"
      ]
    },
    {
      "cell_type": "markdown",
      "source": [
        "# Q2. (65 Points)\n",
        "Comparison for Logistic Regression model: before and after PCA.\n",
        "Consider dataset.csv.\n",
        "Please follow the following steps:\n",
        "\n",
        "  1. Standardize the disease classification dataset (dataset.csv). You can use StandardScaler of sklearn. (5 points)\n",
        "  2. Split the data in 80-20 train-val sets. Apply Eigen-decomposition using PCA **only** on train set. You can use externel libaries such as numpy (Ref np.linalg.eig) (10 points)\n",
        "  3. Selection first 6 component loadings with the highest variance-explanation) (10 points)\n",
        "  4. Project train set in the new 6-dimensional feature space using eigen vectors selected in step 3. (10 points)\n",
        "  5. Train two logistic regression models. One for the standardized (all features) and second for the transformed data (6-features). Report train-sets (standardized and transformed) ROC curves for both models. (10 Points)\n",
        "  6. Validate the model using val set. Project val set in the new 6-dimensional feature space using eigen vectors selected in step 3. Predict target variable using the models trained in step 5. (10 Points)\n",
        "  7. Compare the logistic regression models before and after PCA using ROC curve. (5 points)"
      ],
      "metadata": {
        "id": "EPedGEHPVvCp"
      },
      "id": "EPedGEHPVvCp"
    },
    {
      "cell_type": "code",
      "source": [
        "#imports\n",
        "from sklearn.preprocessing import StandardScaler\n",
        "from sklearn.model_selection import train_test_split\n",
        "from sklearn.decomposition import PCA\n",
        "from sklearn.metrics import roc_curve\n",
        "from sklearn.metrics import confusion_matrix\n",
        "import matplotlib.pyplot as plt\n",
        "import numpy as np\n",
        "import pandas as pd"
      ],
      "metadata": {
        "id": "Bg5LwTVSdapt"
      },
      "id": "Bg5LwTVSdapt",
      "execution_count": 5,
      "outputs": []
    },
    {
      "cell_type": "code",
      "source": [
        "#load in and standardize the disease classification dataset\n",
        "df = pd.read_csv('/content/dataset.csv')\n",
        "data = df.to_numpy()\n",
        "stand_data = data.copy()\n",
        "\n",
        "#remove labels\n",
        "labels = stand_data[:,-1]\n",
        "stand_data = stand_data[:,0:-1]\n",
        "\n",
        "for i in range(len(stand_data[0])):\n",
        "  scaler = StandardScaler()\n",
        "  temp = (stand_data[:,i]).reshape(-1,1)\n",
        "\n",
        "  scaler.fit(temp)\n",
        "  new_temp = scaler.transform(temp)\n",
        "  stand_data[:,i] = new_temp.reshape(len(stand_data),)"
      ],
      "metadata": {
        "id": "kzQNFRSe4_YW"
      },
      "id": "kzQNFRSe4_YW",
      "execution_count": 6,
      "outputs": []
    },
    {
      "cell_type": "code",
      "source": [
        "#split the data \n",
        "x_train, x_test, y_train, y_test = train_test_split(stand_data, labels, test_size = 0.2)\n",
        "print(np.shape(x_train))\n",
        "print(np.shape(x_test))"
      ],
      "metadata": {
        "id": "j3gMht2X5Cpl",
        "colab": {
          "base_uri": "https://localhost:8080/"
        },
        "outputId": "fcc9bd72-b269-4166-da80-66d298624916"
      },
      "id": "j3gMht2X5Cpl",
      "execution_count": 7,
      "outputs": [
        {
          "output_type": "stream",
          "name": "stdout",
          "text": [
            "(604, 754)\n",
            "(152, 754)\n"
          ]
        }
      ]
    },
    {
      "cell_type": "code",
      "source": [
        "#apply eigen-decomp using PCA on train set\n",
        "#AGAIN WITH BAD INSTRUCTIONS, you cannot use np.linalg.eig on a non-square matrix\n",
        "#I am instead using SVD from sklearn's decomposition.PCA library\n",
        "#THIS AUTOMATICALLY SELECTS THE 6 BEST COMPONENTS\n",
        "#AND AUTOMATICALLY TRANSFORMS THE DATA INTO THAT SPACE\n",
        "pca = PCA(n_components = 6)\n",
        "pca.fit(x_train)\n",
        "print(pca.explained_variance_ratio_)\n",
        "print(pca.singular_values_)\n",
        "trans_x_train = pca.transform(x_train)\n",
        "print(np.shape(x_train))\n",
        "print(np.shape(trans_x_train))"
      ],
      "metadata": {
        "id": "vdJsLnSx5FT-",
        "colab": {
          "base_uri": "https://localhost:8080/"
        },
        "outputId": "4ad0b70d-5298-420a-f56f-e484329f90c2"
      },
      "id": "vdJsLnSx5FT-",
      "execution_count": 8,
      "outputs": [
        {
          "output_type": "stream",
          "name": "stdout",
          "text": [
            "[0.12762978 0.09390239 0.08423503 0.04632483 0.03847    0.02993396]\n",
            "[240.77440422 206.52499494 195.60532026 145.05784596 132.18901641\n",
            " 116.6047844 ]\n",
            "(604, 754)\n",
            "(604, 6)\n"
          ]
        }
      ]
    },
    {
      "cell_type": "code",
      "source": [
        "from sklearn.linear_model import LogisticRegression\n",
        "#train 2 logistic-regression models\n",
        "#1. standardized\n",
        "stand_lr = LogisticRegression(max_iter = 500) #more iterations required to converge than standard 100\n",
        "stand_lr.fit(x_train, y_train)\n"
      ],
      "metadata": {
        "id": "VQ9N8x0c5V7G",
        "colab": {
          "base_uri": "https://localhost:8080/"
        },
        "outputId": "51716a5d-836d-4e81-96f1-9963887aa1b9"
      },
      "id": "VQ9N8x0c5V7G",
      "execution_count": 9,
      "outputs": [
        {
          "output_type": "execute_result",
          "data": {
            "text/plain": [
              "LogisticRegression(max_iter=500)"
            ]
          },
          "metadata": {},
          "execution_count": 9
        }
      ]
    },
    {
      "cell_type": "code",
      "source": [
        "#2. transformed\n",
        "trans_lr = LogisticRegression()\n",
        "trans_lr.fit(trans_x_train, y_train)"
      ],
      "metadata": {
        "colab": {
          "base_uri": "https://localhost:8080/"
        },
        "id": "agwqe0pGK7bu",
        "outputId": "372744d2-dbd1-45d0-bea5-1456fb3ea7ae"
      },
      "id": "agwqe0pGK7bu",
      "execution_count": 10,
      "outputs": [
        {
          "output_type": "execute_result",
          "data": {
            "text/plain": [
              "LogisticRegression()"
            ]
          },
          "metadata": {},
          "execution_count": 10
        }
      ]
    },
    {
      "cell_type": "code",
      "source": [
        "#ROC training curves\n",
        "stand_train_guess = stand_lr.predict(x_train)\n",
        "stg1, stg2, _ = roc_curve(stand_train_guess, y_train)\n",
        "trans_train_guess = trans_lr.predict(trans_x_train)\n",
        "ttg1, ttg2, _ = roc_curve(trans_train_guess, y_train)\n",
        "plt.plot(stg1, stg2, color=\"c\")\n",
        "plt.plot(ttg1, ttg2, color=\"g\")\n",
        "plt.plot([0, 1], [0, 1], color=\"navy\", linestyle=\"--\")\n",
        "plt.show()\n",
        "print(confusion_matrix(y_train,stand_train_guess))\n",
        "print(confusion_matrix(y_train,trans_train_guess))"
      ],
      "metadata": {
        "colab": {
          "base_uri": "https://localhost:8080/",
          "height": 334
        },
        "id": "SDdH6kmqM3Pt",
        "outputId": "7f4688fd-0173-4d5f-ae5a-b691232c7dac"
      },
      "id": "SDdH6kmqM3Pt",
      "execution_count": 11,
      "outputs": [
        {
          "output_type": "display_data",
          "data": {
            "text/plain": [
              "<Figure size 432x288 with 1 Axes>"
            ],
            "image/png": "[encoded data removed]"
          },
          "metadata": {
            "needs_background": "light"
          }
        },
        {
          "output_type": "stream",
          "name": "stdout",
          "text": [
            "[[158   0]\n",
            " [  0 446]]\n",
            "[[ 75  83]\n",
            " [ 24 422]]\n"
          ]
        }
      ]
    },
    {
      "cell_type": "code",
      "source": [
        "#validate both models using val set\n",
        "stand_test_guess = stand_lr.predict(x_test)\n",
        "trans_x_test = pca.transform(x_test)\n",
        "trans_test_guess = trans_lr.predict(trans_x_test)"
      ],
      "metadata": {
        "id": "iQtoFwkU5fn6"
      },
      "id": "iQtoFwkU5fn6",
      "execution_count": 12,
      "outputs": []
    },
    {
      "cell_type": "code",
      "source": [
        "#use ROC curve to compare the two models' performance\n",
        "steg1, steg2, _ = roc_curve(stand_test_guess, y_test)\n",
        "tteg1, tteg2, _ = roc_curve(trans_test_guess, y_test)\n",
        "plt.plot(steg1, steg2, color=\"y\")\n",
        "plt.plot(tteg1, tteg2, color=\"b\")\n",
        "plt.plot([0, 1], [0, 1], color=\"navy\", linestyle=\"--\")\n",
        "plt.show()\n",
        "print(confusion_matrix(y_test,stand_test_guess))\n",
        "print(confusion_matrix(y_test,trans_test_guess))"
      ],
      "metadata": {
        "id": "Ky6jFasa5kuV",
        "colab": {
          "base_uri": "https://localhost:8080/",
          "height": 334
        },
        "outputId": "06c2890b-eb45-4273-a0dd-1a66e2c306d2"
      },
      "id": "Ky6jFasa5kuV",
      "execution_count": 13,
      "outputs": [
        {
          "output_type": "display_data",
          "data": {
            "text/plain": [
              "<Figure size 432x288 with 1 Axes>"
            ],
            "image/png": "[encoded data removed]"
          },
          "metadata": {
            "needs_background": "light"
          }
        },
        {
          "output_type": "stream",
          "name": "stdout",
          "text": [
            "[[ 20  14]\n",
            " [ 11 107]]\n",
            "[[ 14  20]\n",
            " [  9 109]]\n"
          ]
        }
      ]
    },
    {
      "cell_type": "markdown",
      "source": [
        "# Q3. (10 Points)\n",
        "Outlier Detection using Z-score. (10 points)\n",
        "You are given a Heights and Weights Dataset and a threshold 1. Calculate the number of outliar and show the first 5 of them.\n"
      ],
      "metadata": {
        "id": "yUAmf5ByV_Zo"
      },
      "id": "yUAmf5ByV_Zo"
    },
    {
      "cell_type": "code",
      "execution_count": 14,
      "id": "5087f2c5",
      "metadata": {
        "id": "5087f2c5",
        "colab": {
          "base_uri": "https://localhost:8080/"
        },
        "outputId": "f901cf5a-0fb6-4abf-f9da-9cde3837e83a"
      },
      "outputs": [
        {
          "output_type": "stream",
          "name": "stdout",
          "text": [
            "       Index  Height(Inches)  Weight(Pounds)\n",
            "0          1        65.78331        112.9925\n",
            "1          2        71.51521        136.4873\n",
            "2          3        69.39874        153.0269\n",
            "3          4        68.21660        142.3354\n",
            "4          5        67.78781        144.2971\n",
            "...      ...             ...             ...\n",
            "24995  24996        69.50215        118.0312\n",
            "24996  24997        64.54826        120.1932\n",
            "24997  24998        64.69855        118.2655\n",
            "24998  24999        67.52918        132.2682\n",
            "24999  25000        68.87761        124.8742\n",
            "\n",
            "[25000 rows x 3 columns]\n"
          ]
        }
      ],
      "source": [
        "# data heights and weights\n",
        "df = pd.read_csv('/content/HeightWeight.csv')\n",
        "hw = df.to_numpy()\n",
        "print(df)"
      ]
    },
    {
      "cell_type": "code",
      "source": [
        "#outliers by height\n",
        "std_height = np.std(hw[:,1])\n",
        "mean_height = np.mean(hw[:,1])\n",
        "print('Mean: ' + str(mean_height))\n",
        "print('Standard Deviation: ' + str(std_height))\n",
        "height_outliers = []\n",
        "\n",
        "for i in range(len(hw[:,1])):\n",
        "  z = (hw[i,1] - mean_height) / std_height\n",
        "  if abs(z) >= 3:\n",
        "    height_outliers.append(hw[i,1])\n",
        "\n",
        "print(str(len(height_outliers)) + ' outliers')\n",
        "print('--First 5 Outliers--')\n",
        "for i in range(5):\n",
        "  print(height_outliers[i])"
      ],
      "metadata": {
        "colab": {
          "base_uri": "https://localhost:8080/"
        },
        "id": "GM3D4N-oVwSH",
        "outputId": "410bd9b3-fc71-4dd2-8c10-a1d5777a8e37"
      },
      "id": "GM3D4N-oVwSH",
      "execution_count": 15,
      "outputs": [
        {
          "output_type": "stream",
          "name": "stdout",
          "text": [
            "Mean: 67.99311359679999\n",
            "Standard Deviation: 1.9016407372498432\n",
            "51 outliers\n",
            "--First 5 Outliers--\n",
            "73.90107\n",
            "73.83364\n",
            "62.01666\n",
            "74.24899\n",
            "74.19488\n"
          ]
        }
      ]
    },
    {
      "cell_type": "code",
      "source": [
        "#outliers by weight\n",
        "std_weight = np.std(hw[:, 2])\n",
        "mean_weight = np.mean(hw[:, 2])\n",
        "print('Mean: ' + str(mean_weight))\n",
        "print('Standard Deviation: ' + str(std_weight))\n",
        "weight_outliers = []\n",
        "\n",
        "for i in range(len(hw[:,2])):\n",
        "  z = (hw[i,2] - mean_weight) / std_weight\n",
        "  if abs(z) >= 3:\n",
        "    weight_outliers.append(hw[i,2])\n",
        "\n",
        "print(str(len(weight_outliers)) + ' outliers')\n",
        "print('--First 5 Outliers--')\n",
        "for i in range(5):\n",
        "  print(weight_outliers[i])"
      ],
      "metadata": {
        "colab": {
          "base_uri": "https://localhost:8080/"
        },
        "id": "qvc33cqTW362",
        "outputId": "144d5ddc-1dde-4304-8493-f8c34dc40ba9"
      },
      "id": "qvc33cqTW362",
      "execution_count": 16,
      "outputs": [
        {
          "output_type": "stream",
          "name": "stdout",
          "text": [
            "Mean: 127.07942116080001\n",
            "Standard Deviation: 11.66066434332078\n",
            "69 outliers\n",
            "--First 5 Outliers--\n",
            "84.3598\n",
            "168.229\n",
            "162.4109\n",
            "83.08527\n",
            "162.8737\n"
          ]
        }
      ]
    }
  ],
  "metadata": {
    "kernelspec": {
      "display_name": "Python 3 (ipykernel)",
      "language": "python",
      "name": "python3"
    },
    "language_info": {
      "codemirror_mode": {
        "name": "ipython",
        "version": 3
      },
      "file_extension": ".py",
      "mimetype": "text/x-python",
      "name": "python",
      "nbconvert_exporter": "python",
      "pygments_lexer": "ipython3",
      "version": "3.9.7"
    },
    "colab": {
      "name": "CS6140_Assignment_4_Summer22.ipynb",
      "provenance": [],
      "collapsed_sections": []
    }
  },
  "nbformat": 4,
  "nbformat_minor": 5
}
